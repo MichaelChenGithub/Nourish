{
 "cells": [
  {
   "cell_type": "code",
   "execution_count": 1,
   "metadata": {},
   "outputs": [],
   "source": [
    "from langchain_core.runnables import (\n",
    "    RunnableBranch,\n",
    "    RunnableLambda,\n",
    "    RunnableParallel,\n",
    "    RunnablePassthrough,\n",
    ")\n",
    "from langchain_core.prompts import ChatPromptTemplate\n",
    "from langchain_core.prompts.prompt import PromptTemplate\n",
    "from langchain_core.pydantic_v1 import BaseModel, Field\n",
    "from typing import Tuple, List, Optional\n",
    "from langchain_core.messages import AIMessage, HumanMessage\n",
    "from langchain_core.output_parsers import StrOutputParser\n",
    "import os\n",
    "from langchain_community.graphs import Neo4jGraph\n",
    "from langchain.document_loaders import WikipediaLoader\n",
    "from langchain.text_splitter import TokenTextSplitter\n",
    "from langchain_openai import ChatOpenAI\n",
    "from langchain_experimental.graph_transformers import LLMGraphTransformer\n",
    "from neo4j import GraphDatabase\n",
    "from yfiles_jupyter_graphs import GraphWidget\n",
    "from langchain_community.vectorstores import Neo4jVector\n",
    "from langchain_openai import OpenAIEmbeddings\n",
    "from langchain_community.vectorstores.neo4j_vector import remove_lucene_chars\n",
    "from langchain_core.runnables import ConfigurableField, RunnableParallel, RunnablePassthrough\n",
    "# LangChain supports many other chat models. Here, we're using Ollama\n",
    "from langchain_community.chat_models import ChatOllama\n",
    "from langchain_core.documents import Document\n",
    "from dotenv import load_dotenv"
   ]
  },
  {
   "cell_type": "code",
   "execution_count": 2,
   "metadata": {},
   "outputs": [],
   "source": [
    "load_dotenv()\n",
    "\n",
    "graph = Neo4jGraph()"
   ]
  },
  {
   "cell_type": "code",
   "execution_count": 3,
   "metadata": {},
   "outputs": [],
   "source": [
    "import pandas as pd\n",
    "recipe_df = pd.read_csv(\"hf://datasets/Hieu-Pham/kaggle_food_recipes/Food Ingredients and Recipe Dataset with Image Name Mapping.csv\")"
   ]
  },
  {
   "cell_type": "code",
   "execution_count": 4,
   "metadata": {},
   "outputs": [
    {
     "data": {
      "text/html": [
       "<div>\n",
       "<style scoped>\n",
       "    .dataframe tbody tr th:only-of-type {\n",
       "        vertical-align: middle;\n",
       "    }\n",
       "\n",
       "    .dataframe tbody tr th {\n",
       "        vertical-align: top;\n",
       "    }\n",
       "\n",
       "    .dataframe thead th {\n",
       "        text-align: right;\n",
       "    }\n",
       "</style>\n",
       "<table border=\"1\" class=\"dataframe\">\n",
       "  <thead>\n",
       "    <tr style=\"text-align: right;\">\n",
       "      <th></th>\n",
       "      <th>Title</th>\n",
       "      <th>Instructions</th>\n",
       "      <th>Cleaned_Ingredients</th>\n",
       "    </tr>\n",
       "  </thead>\n",
       "  <tbody>\n",
       "    <tr>\n",
       "      <th>0</th>\n",
       "      <td>Miso-Butter Roast Chicken With Acorn Squash Pa...</td>\n",
       "      <td>Pat chicken dry with paper towels, season all ...</td>\n",
       "      <td>['1 (3½–4-lb.) whole chicken', '2¾ tsp. kosher...</td>\n",
       "    </tr>\n",
       "    <tr>\n",
       "      <th>1</th>\n",
       "      <td>Crispy Salt and Pepper Potatoes</td>\n",
       "      <td>Preheat oven to 400°F and line a rimmed baking...</td>\n",
       "      <td>['2 large egg whites', '1 pound new potatoes (...</td>\n",
       "    </tr>\n",
       "    <tr>\n",
       "      <th>2</th>\n",
       "      <td>Thanksgiving Mac and Cheese</td>\n",
       "      <td>Place a rack in middle of oven; preheat to 400...</td>\n",
       "      <td>['1 cup evaporated milk', '1 cup whole milk', ...</td>\n",
       "    </tr>\n",
       "    <tr>\n",
       "      <th>3</th>\n",
       "      <td>Italian Sausage and Bread Stuffing</td>\n",
       "      <td>Preheat oven to 350°F with rack in middle. Gen...</td>\n",
       "      <td>['1 (¾- to 1-pound) round Italian loaf, cut in...</td>\n",
       "    </tr>\n",
       "    <tr>\n",
       "      <th>4</th>\n",
       "      <td>Newton's Law</td>\n",
       "      <td>Stir together brown sugar and hot water in a c...</td>\n",
       "      <td>['1 teaspoon dark brown sugar', '1 teaspoon ho...</td>\n",
       "    </tr>\n",
       "  </tbody>\n",
       "</table>\n",
       "</div>"
      ],
      "text/plain": [
       "                                               Title  \\\n",
       "0  Miso-Butter Roast Chicken With Acorn Squash Pa...   \n",
       "1                    Crispy Salt and Pepper Potatoes   \n",
       "2                        Thanksgiving Mac and Cheese   \n",
       "3                 Italian Sausage and Bread Stuffing   \n",
       "4                                       Newton's Law   \n",
       "\n",
       "                                        Instructions  \\\n",
       "0  Pat chicken dry with paper towels, season all ...   \n",
       "1  Preheat oven to 400°F and line a rimmed baking...   \n",
       "2  Place a rack in middle of oven; preheat to 400...   \n",
       "3  Preheat oven to 350°F with rack in middle. Gen...   \n",
       "4  Stir together brown sugar and hot water in a c...   \n",
       "\n",
       "                                 Cleaned_Ingredients  \n",
       "0  ['1 (3½–4-lb.) whole chicken', '2¾ tsp. kosher...  \n",
       "1  ['2 large egg whites', '1 pound new potatoes (...  \n",
       "2  ['1 cup evaporated milk', '1 cup whole milk', ...  \n",
       "3  ['1 (¾- to 1-pound) round Italian loaf, cut in...  \n",
       "4  ['1 teaspoon dark brown sugar', '1 teaspoon ho...  "
      ]
     },
     "execution_count": 4,
     "metadata": {},
     "output_type": "execute_result"
    }
   ],
   "source": [
    "recipe_df = recipe_df[['Title', 'Instructions', 'Cleaned_Ingredients']]\n",
    "recipe_df.head()"
   ]
  },
  {
   "cell_type": "markdown",
   "metadata": {},
   "source": [
    "#### text2graph"
   ]
  },
  {
   "cell_type": "code",
   "execution_count": 5,
   "metadata": {},
   "outputs": [],
   "source": [
    "test_recipe = recipe_df.head()\n",
    "test_recipe = test_recipe.to_dict(orient='records')"
   ]
  },
  {
   "cell_type": "code",
   "execution_count": 6,
   "metadata": {},
   "outputs": [],
   "source": [
    "docs = []\n",
    "for i in test_recipe:\n",
    "    docs.append(str(i))"
   ]
  },
  {
   "cell_type": "code",
   "execution_count": 7,
   "metadata": {},
   "outputs": [
    {
     "data": {
      "text/plain": [
       "['{\\'Title\\': \\'Miso-Butter Roast Chicken With Acorn Squash Panzanella\\', \\'Instructions\\': \\'Pat chicken dry with paper towels, season all over with 2 tsp. salt, and tie legs together with kitchen twine. Let sit at room temperature 1 hour.\\\\nMeanwhile, halve squash and scoop out seeds. Run a vegetable peeler along ridges of squash halves to remove skin. Cut each half into ½\"-thick wedges; arrange on a rimmed baking sheet.\\\\nCombine sage, rosemary, and 6 Tbsp. melted butter in a large bowl; pour half of mixture over squash on baking sheet. Sprinkle squash with allspice, red pepper flakes, and ½ tsp. salt and season with black pepper; toss to coat.\\\\nAdd bread, apples, oil, and ¼ tsp. salt to remaining herb butter in bowl; season with black pepper and toss to combine. Set aside.\\\\nPlace onion and vinegar in a small bowl; season with salt and toss to coat. Let sit, tossing occasionally, until ready to serve.\\\\nPlace a rack in middle and lower third of oven; preheat to 425°F. Mix miso and 3 Tbsp. room-temperature butter in a small bowl until smooth. Pat chicken dry with paper towels, then rub or brush all over with miso butter. Place chicken in a large cast-iron skillet and roast on middle rack until an instant-read thermometer inserted into the thickest part of breast registers 155°F, 50–60 minutes. (Temperature will climb to 165°F while chicken rests.) Let chicken rest in skillet at least 5 minutes, then transfer to a plate; reserve skillet.\\\\nMeanwhile, roast squash on lower rack until mostly tender, about 25 minutes. Remove from oven and scatter reserved bread mixture over, spreading into as even a layer as you can manage. Return to oven and roast until bread is golden brown and crisp and apples are tender, about 15 minutes. Remove from oven, drain pickled onions, and toss to combine. Transfer to a serving dish.\\\\nUsing your fingers, mash flour and butter in a small bowl to combine.\\\\nSet reserved skillet with chicken drippings over medium heat. You should have about ¼ cup, but a little over or under is all good. (If you have significantly more, drain off and set excess aside.) Add wine and cook, stirring often and scraping up any browned bits with a wooden spoon, until bits are loosened and wine is reduced by about half (you should be able to smell the wine), about 2 minutes. Add butter mixture; cook, stirring often, until a smooth paste forms, about 2 minutes. Add broth and any reserved drippings and cook, stirring constantly, until combined and thickened, 6–8 minutes. Remove from heat and stir in miso. Taste and season with salt and black pepper.\\\\nServe chicken with gravy and squash panzanella alongside.\\', \\'Cleaned_Ingredients\\': \\'[\\\\\\'1 (3½–4-lb.) whole chicken\\\\\\', \\\\\\'2¾ tsp. kosher salt, divided, plus more\\\\\\', \\\\\\'2 small acorn squash (about 3 lb. total)\\\\\\', \\\\\\'2 Tbsp. finely chopped sage\\\\\\', \\\\\\'1 Tbsp. finely chopped rosemary\\\\\\', \\\\\\'6 Tbsp. unsalted butter, melted, plus 3 Tbsp. room temperature\\\\\\', \\\\\\'¼ tsp. ground allspice\\\\\\', \\\\\\'Pinch of crushed red pepper flakes\\\\\\', \\\\\\'Freshly ground black pepper\\\\\\', \\\\\\'⅓ loaf good-quality sturdy white bread, torn into 1\" pieces (about 2½ cups)\\\\\\', \\\\\\'2 medium apples (such as Gala or Pink Lady; about 14 oz. total), cored, cut into 1\" pieces\\\\\\', \\\\\\'2 Tbsp. extra-virgin olive oil\\\\\\', \\\\\\'½ small red onion, thinly sliced\\\\\\', \\\\\\'3 Tbsp. apple cider vinegar\\\\\\', \\\\\\'1 Tbsp. white miso\\\\\\', \\\\\\'¼ cup all-purpose flour\\\\\\', \\\\\\'2 Tbsp. unsalted butter, room temperature\\\\\\', \\\\\\'¼ cup dry white wine\\\\\\', \\\\\\'2 cups unsalted chicken broth\\\\\\', \\\\\\'2 tsp. white miso\\\\\\', \\\\\\'Kosher salt\\\\\\', \\\\\\'freshly ground pepper\\\\\\']\\'}',\n",
       " '{\\'Title\\': \\'Crispy Salt and Pepper Potatoes\\', \\'Instructions\\': \\'Preheat oven to 400°F and line a rimmed baking sheet with parchment. In a large bowl, whisk the egg whites until foamy (there shouldn’t be any liquid whites in the bowl). Add the potatoes and toss until they’re well coated with the egg whites, then transfer to a strainer or colander and let the excess whites drain. Season the potatoes with the salt, pepper, and herbs. Scatter the potatoes on the baking sheet (make sure they’re not touching) and roast until the potatoes are very crispy and tender when poked with a knife, 15 to 20 minutes (depending on the size of the potatoes).\\\\nTransfer to a bowl and serve.\\', \\'Cleaned_Ingredients\\': \"[\\'2 large egg whites\\', \\'1 pound new potatoes (about 1 inch in diameter)\\', \\'2 teaspoons kosher salt\\', \\'¾ teaspoon finely ground black pepper\\', \\'1 teaspoon finely chopped rosemary\\', \\'1 teaspoon finely chopped thyme\\', \\'1 teaspoon finely chopped parsley\\']\"}',\n",
       " '{\\'Title\\': \\'Thanksgiving Mac and Cheese\\', \\'Instructions\\': \\'Place a rack in middle of oven; preheat to 400°. Bring evaporated milk and whole milk to a bare simmer in a large saucepan over medium heat. Whisk in garlic powder, onion powder, paprika, pepper, and 1 tsp. salt. Working in batches, whisk in three fourths of the cheddar, then all of the cream cheese.\\\\nMeanwhile, bring a large pot of generously salted water to a boil (it should have a little less salt than seawater). Cook macaroni, stirring occasionally, until very al dente, about 4 minutes. Drain in a colander.\\\\nAdd macaroni to cheese sauce in pan and mix until well coated. Evenly spread out half of macaroni mixture in a 13x9\" baking dish. Sprinkle half of remaining cheddar evenly over. Layer remaining macaroni mixture on top and sprinkle with remaining cheddar. Bake until all of the cheese is melted, about 10 minutes. Let cool slightly before serving.\\', \\'Cleaned_Ingredients\\': \"[\\'1 cup evaporated milk\\', \\'1 cup whole milk\\', \\'1 tsp. garlic powder\\', \\'1 tsp. onion powder\\', \\'1 tsp. smoked paprika\\', \\'½ tsp. freshly ground black pepper\\', \\'1 tsp. kosher salt, plus more\\', \\'2 lb. extra-sharp cheddar, coarsely grated\\', \\'4 oz. full-fat cream cheese\\', \\'1 lb. elbow macaroni\\']\"}',\n",
       " '{\\'Title\\': \\'Italian Sausage and Bread Stuffing\\', \\'Instructions\\': \"Preheat oven to 350°F with rack in middle. Generously butter baking dish.\\\\nPut bread in 2 shallow baking pans and bake, switching position of pans halfway through baking, until just dried out, about 10 minutes.\\\\nHeat 1 tablespoon oil in a 12-inch heavy skillet over medium-high heat until it shimmers, then cook half of sausage, stirring and breaking it into small pieces, until golden brown, about 6 minutes. Transfer with a slotted spoon to a large bowl. Brown remaining sausage in remaining tablespoon oil, transferring to bowl.\\\\nPour off fat from skillet and wipe clean. Heat butter over medium heat until foam subsides, then cook onions, celery, garlic, and ½ teaspoon each of salt and pepper, stirring occasionally, until golden, 12 to 15 minutes. Add vegetables and bread to sausage.\\\\nWhisk together eggs, ½ cup cream, turkey stock, cheese, and parsley, then stir into stuffing and cool completely, about 30 minutes. Reserve 5 cups stuffing to stuff turkey and spoon remainder into baking dish, then drizzle with remaining ¼ cup cream. Cover stuffing and chill.\\\\nAbout 1 hour before stuffed turkey is finished roasting, bring dish of stuffing to room temperature. When turkey is done, increase oven temperature to 425°F and bake stuffing, covered tightly with foil, until hot throughout, about 20 minutes. Remove foil and bake until top is golden and crisp, about 15 minutes more.\\\\nCooks\\' Note: Bread can be toasted 3 days ahead and kept (once cool) in a sealed bag at room temperature. Stuffing can be prepared (but not baked) 4 hours before roasting turkey. If baking stuffing at the same time as potatoes, put stuffing in upper third of oven and potatoes in bottom third (allow extra time).\", \\'Cleaned_Ingredients\\': \"[\\'1 (¾- to 1-pound) round Italian loaf, cut into 1-inch cubes (8 cups)\\', \\'2 tablespoons olive oil, divided\\', \\'2 pounds sweet Italian sausage, casings removed, divided\\', \\'1 stick unsalted butter, cut into pieces\\', \\'3 medium onions, chopped\\', \\'4 large celery ribs, chopped\\', \\'5 garlic cloves, minced\\', \\'4 large eggs, lightly beaten\\', \\'¾ cup heavy cream, divided\\', \\'½ cup turkey giblet stock or reduced-sodium chicken broth\\', \\'1 cup grated Parmigiano-Reggiano (2 ounces)\\', \\'½ cup coarsely chopped flat-leaf parsley\\', \\'4-qt shallow ceramic or glass baking dish\\']\"}',\n",
       " '{\\'Title\\': \"Newton\\'s Law\", \\'Instructions\\': \\'Stir together brown sugar and hot water in a cocktail shaker to dissolve. Let cool, then add bourbon, lemon juice, and apple butter and fill with ice. Shake until well chilled, about 15 seconds. Strain into an ice-filled rocks glass. Garnish with orange twist and cinnamon.\\', \\'Cleaned_Ingredients\\': \"[\\'1 teaspoon dark brown sugar\\', \\'1 teaspoon hot water\\', \\'1 ½ oz. bourbon\\', \\'½ oz. fresh lemon juice\\', \\'2 teaspoons apple butter (storebought or homemade)\\', \\'Garnish: orange twist and freshly grated or ground cinnamon\\']\"}']"
      ]
     },
     "execution_count": 7,
     "metadata": {},
     "output_type": "execute_result"
    }
   ],
   "source": [
    "docs"
   ]
  },
  {
   "cell_type": "code",
   "execution_count": 8,
   "metadata": {},
   "outputs": [
    {
     "ename": "NameError",
     "evalue": "name 'recipe_docs' is not defined",
     "output_type": "error",
     "traceback": [
      "\u001b[0;31m---------------------------------------------------------------------------\u001b[0m",
      "\u001b[0;31mNameError\u001b[0m                                 Traceback (most recent call last)",
      "Cell \u001b[0;32mIn[8], line 1\u001b[0m\n\u001b[0;32m----> 1\u001b[0m documents \u001b[38;5;241m=\u001b[39m \u001b[43mrecipe_docs\u001b[49m\n\u001b[1;32m      2\u001b[0m \u001b[38;5;66;03m# supports many more optional parameters. Hover on your `ChatOllama(...)`\u001b[39;00m\n\u001b[1;32m      3\u001b[0m \u001b[38;5;66;03m# class to view the latest available supported parameters\u001b[39;00m\n\u001b[1;32m      4\u001b[0m llm \u001b[38;5;241m=\u001b[39m ChatOllama(model\u001b[38;5;241m=\u001b[39m\u001b[38;5;124m\"\u001b[39m\u001b[38;5;124mllama3\u001b[39m\u001b[38;5;124m\"\u001b[39m)\n",
      "\u001b[0;31mNameError\u001b[0m: name 'recipe_docs' is not defined"
     ]
    }
   ],
   "source": [
    "documents = recipe_docs\n",
    "# supports many more optional parameters. Hover on your `ChatOllama(...)`\n",
    "# class to view the latest available supported parameters\n",
    "llm = ChatOllama(model=\"llama3\")\n",
    "llm_transformer = LLMGraphTransformer(llm=llm)\n",
    "\n",
    "graph_documents = llm_transformer.convert_to_graph_documents(documents)\n",
    "graph.add_graph_documents(\n",
    "    graph_documents,\n",
    "    baseEntityLabel=True,\n",
    "    include_source=True\n",
    ")"
   ]
  },
  {
   "cell_type": "code",
   "execution_count": null,
   "metadata": {},
   "outputs": [
    {
     "data": {
      "text/plain": [
       "[Relationship(source=Node(id='Miso-Butter Roast Chicken', type='Recipe'), target=Node(id='butter', type='Ingredient'), type='MADE_WITH'),\n",
       " Relationship(source=Node(id='Miso-Butter Roast Chicken', type='Recipe'), target=Node(id='miso', type='Ingredient'), type='MADE_WITH'),\n",
       " Relationship(source=Node(id='Miso-Butter Roast Chicken', type='Recipe'), target=Node(id='skillet', type='Cookware'), type='COOKED_IN'),\n",
       " Relationship(source=Node(id='Acorn Squash', type='Ingredient'), target=Node(id='bread mixture', type='Ingredient'), type='ROASTED_WITH'),\n",
       " Relationship(source=Node(id='Chicken Broth', type='Ingredient'), target=Node(id='Miso-Butter Roast Chicken', type='Recipe'), type='USED_IN'),\n",
       " Relationship(source=Node(id='White Miso', type='Ingredient'), target=Node(id='Miso-Butter Roast Chicken', type='Recipe'), type='USED_IN'),\n",
       " Relationship(source=Node(id='Butter', type='Ingredient'), target=Node(id='Miso-Butter Roast Chicken', type='Recipe'), type='USED_IN'),\n",
       " Relationship(source=Node(id='Allspice', type='Ingredient'), target=Node(id='Acorn Squash', type='Ingredient'), type='ADDED_TO'),\n",
       " Relationship(source=Node(id='Red Pepper Flakes', type='Ingredient'), target=Node(id='Acorn Squash', type='Ingredient'), type='ADDED_TO')]"
      ]
     },
     "execution_count": 49,
     "metadata": {},
     "output_type": "execute_result"
    }
   ],
   "source": [
    "graph.add_graph_documents(\n",
    "    graph_documents,\n",
    "    baseEntityLabel=True,\n",
    "    include_source=True\n",
    ")"
   ]
  },
  {
   "cell_type": "markdown",
   "metadata": {},
   "source": [
    "#### df2graph"
   ]
  },
  {
   "cell_type": "code",
   "execution_count": 9,
   "metadata": {},
   "outputs": [],
   "source": [
    "test_recipe = recipe_df.head()"
   ]
  },
  {
   "cell_type": "code",
   "execution_count": 28,
   "metadata": {},
   "outputs": [],
   "source": [
    "import re\n",
    "import pandas as pd\n",
    "import networkx as nx\n",
    "from py2neo import Graph, Node, Relationship\n",
    "import ast\n",
    "\n",
    "# 初始化圖譜\n",
    "G = nx.Graph()\n",
    "\n",
    "# 提取成分名稱和份量的輔助函數\n",
    "def parse_ingredients(ingredient_string):\n",
    "    ingredients = ast.literal_eval(ingredient_string)\n",
    "    parsed_ingredients = []\n",
    "    for ingredient in ingredients:\n",
    "        # 使用正則表達式來拆解成分名稱和份量\n",
    "        match = re.match(r\"([\\d\\/\\s\\.\\½]+)?\\s*(oz\\.|teaspoons?|tablespoons?|cups?|lb\\.|g|kg|ml|l)?\\s*(.*)\", ingredient.strip())\n",
    "        if match:\n",
    "            amount, unit, name = match.groups()\n",
    "            amount = amount.strip() if amount else '1'\n",
    "            unit = unit.strip() if unit else ''\n",
    "            name = name.strip()\n",
    "            # 處理數量的簡單轉換\n",
    "            if '½' in amount:\n",
    "                amount = amount.replace('½', '0.5')\n",
    "            try:\n",
    "                amount = float(eval(amount))\n",
    "            except:\n",
    "                amount = 1\n",
    "            parsed_ingredients.append((name, f\"{amount} {unit}\".strip()))\n",
    "        else:\n",
    "            parsed_ingredients.append((ingredient.strip(), ''))\n",
    "    return parsed_ingredients"
   ]
  },
  {
   "cell_type": "code",
   "execution_count": 32,
   "metadata": {},
   "outputs": [
    {
     "name": "stderr",
     "output_type": "stream",
     "text": [
      "/var/folders/zc/fpd0g53d2vgdp8kf_k0xv7h40000gn/T/ipykernel_19637/626722458.py:37: DeprecationWarning: write_transaction has been renamed to execute_write\n",
      "  session.write_transaction(clear_database)\n",
      "/var/folders/zc/fpd0g53d2vgdp8kf_k0xv7h40000gn/T/ipykernel_19637/626722458.py:44: DeprecationWarning: write_transaction has been renamed to execute_write\n",
      "  session.write_transaction(create_node, \"Recipe\", {\"title\": node_key, \"instructions\": node['instructions']})\n",
      "/var/folders/zc/fpd0g53d2vgdp8kf_k0xv7h40000gn/T/ipykernel_19637/626722458.py:46: DeprecationWarning: write_transaction has been renamed to execute_write\n",
      "  session.write_transaction(create_node, \"Ingredient\", {\"name\": node_key})\n",
      "/var/folders/zc/fpd0g53d2vgdp8kf_k0xv7h40000gn/T/ipykernel_19637/626722458.py:51: DeprecationWarning: write_transaction has been renamed to execute_write\n",
      "  session.write_transaction(create_relationship, recipe_node, ingredient_node, edge[2]['relationship'], {\"amount\": edge[2]['amount']})\n"
     ]
    },
    {
     "name": "stdout",
     "output_type": "stream",
     "text": [
      "知識圖譜建立完成！\n"
     ]
    }
   ],
   "source": [
    "# 連接到 Neo4j Aura 並創建圖譜\n",
    "NEO4J_URI = \"neo4j+s://f0372b25.databases.neo4j.io\"\n",
    "NEO4J_USER = os.getenv(\"NEO4J_USERNAME\")\n",
    "NEO4J_PASSWORD = os.getenv(\"NEO4J_PASSWORD\")\n",
    "\n",
    "# 添加食譜和成分到圖譜中\n",
    "for index, row in test_recipe.iterrows():\n",
    "    recipe_title = row['Title']\n",
    "    recipe_instructions = row['Instructions']\n",
    "    recipe_node = {\"title\": recipe_title, \"instructions\": recipe_instructions}  # 將屬性存儲在字典中\n",
    "    G.add_node(recipe_title, **recipe_node)  # 使用屬性字典添加節點\n",
    "\n",
    "    ingredients = parse_ingredients(row['Cleaned_Ingredients'])\n",
    "    for name, amount in ingredients:\n",
    "        ingredient_node = {\"name\": name.lower()}\n",
    "        if not G.has_node(name.lower()):\n",
    "            G.add_node(name.lower(), **ingredient_node)  # 使用屬性字典添加節點\n",
    "        G.add_edge(recipe_title, name.lower(), relationship=\"CONTAINS\", amount=amount)\n",
    "\n",
    "driver = GraphDatabase.driver(NEO4J_URI, auth=(NEO4J_USER, NEO4J_PASSWORD))\n",
    "\n",
    "def clear_database(tx):\n",
    "    tx.run(\"MATCH (n) DETACH DELETE n\")\n",
    "\n",
    "def create_node(tx, label, properties):\n",
    "    tx.run(f\"CREATE (n:{label} $properties)\", properties=properties)\n",
    "\n",
    "def create_relationship(tx, start_node, end_node, relationship, properties):\n",
    "    tx.run(f\"\"\"\n",
    "    MATCH (a:{start_node[0]} {{title: $start_title}})\n",
    "    MATCH (b:{end_node[0]} {{name: $end_name}})\n",
    "    CREATE (a)-[r:{relationship} $properties]->(b)\n",
    "    \"\"\", start_title=start_node[1]['title'], end_name=end_node[1]['name'], properties=properties)\n",
    "\n",
    "# 清空現有數據（選擇性）\n",
    "with driver.session() as session:\n",
    "    session.write_transaction(clear_database)\n",
    "\n",
    "# 添加節點和邊到 Neo4j\n",
    "with driver.session() as session:\n",
    "    for node_key in G.nodes:\n",
    "        node = G.nodes[node_key]  # 直接檢索節點屬性字典\n",
    "        if 'instructions' in node:\n",
    "            session.write_transaction(create_node, \"Recipe\", {\"title\": node_key, \"instructions\": node['instructions']})\n",
    "        else:\n",
    "            session.write_transaction(create_node, \"Ingredient\", {\"name\": node_key})\n",
    "\n",
    "    for edge in G.edges(data=True):\n",
    "        recipe_node = (\"Recipe\", {\"title\": edge[0]})\n",
    "        ingredient_node = (\"Ingredient\", {\"name\": edge[1]})\n",
    "        session.write_transaction(create_relationship, recipe_node, ingredient_node, edge[2]['relationship'], {\"amount\": edge[2]['amount']})\n",
    "\n",
    "print(\"知識圖譜建立完成！\")"
   ]
  },
  {
   "cell_type": "code",
   "execution_count": 38,
   "metadata": {},
   "outputs": [
    {
     "name": "stderr",
     "output_type": "stream",
     "text": [
      "Received notification from DBMS server: {severity: WARNING} {code: Neo.ClientNotification.Statement.FeatureDeprecationWarning} {category: DEPRECATION} {title: This feature is deprecated and will be removed in future versions.} {description: The query used a deprecated procedure. ('db.create.setVectorProperty' has been replaced by 'db.create.setNodeVectorProperty')} {position: line: 1, column: 70, offset: 69} for query: \"UNWIND $data AS row MATCH (n:`Document`) WHERE elementId(n) = row.id CALL db.create.setVectorProperty(n, 'embedding', row.embedding) YIELD node RETURN count(*)\"\n"
     ]
    }
   ],
   "source": [
    "vector_index = Neo4jVector.from_existing_graph(\n",
    "    OpenAIEmbeddings(),\n",
    "    search_type=\"hybrid\",\n",
    "    node_label=\"Document\",\n",
    "    text_node_properties=[\"text\"],\n",
    "    embedding_node_property=\"embedding\"\n",
    ")"
   ]
  },
  {
   "cell_type": "code",
   "execution_count": 45,
   "metadata": {},
   "outputs": [],
   "source": [
    "graph = Neo4jGraph()\n",
    "# Retriever\n",
    "\n",
    "graph.query(\n",
    "    \"CREATE FULLTEXT INDEX entity IF NOT EXISTS FOR (e:__Entity__) ON EACH [e.id]\")\n",
    "\n",
    "# Extract entities from text\n",
    "class Entities(BaseModel):\n",
    "    \"\"\"Identifying information about entities.\"\"\"\n",
    "\n",
    "    names: List[str] = Field(\n",
    "        ...,\n",
    "        description=\"All the recipe, food, ingredient, nutrition that \"\n",
    "        \"appear in the text\",\n",
    "    )\n",
    "\n",
    "prompt = ChatPromptTemplate.from_messages(\n",
    "    [\n",
    "        (\n",
    "            \"system\",\n",
    "            \"You are extracting organization and person entities from the text.\",\n",
    "        ),\n",
    "        (\n",
    "            \"human\",\n",
    "            \"Use the given format to extract information from the following \"\n",
    "            \"input: {question}\",\n",
    "        ),\n",
    "    ]\n",
    ")\n",
    "# llm=ChatOllama(model=\"llama3\")\n",
    "llm=ChatOpenAI(temperature=0, model_name=\"gpt-4o\") \n",
    "entity_chain = prompt | llm.with_structured_output(Entities)"
   ]
  },
  {
   "cell_type": "code",
   "execution_count": 47,
   "metadata": {},
   "outputs": [
    {
     "data": {
      "text/plain": [
       "['烤馬鈴薯']"
      ]
     },
     "execution_count": 47,
     "metadata": {},
     "output_type": "execute_result"
    }
   ],
   "source": [
    "entity_chain.invoke({\"question\": \"烤馬鈴薯怎麼做？\"}).names"
   ]
  },
  {
   "cell_type": "code",
   "execution_count": 58,
   "metadata": {},
   "outputs": [],
   "source": [
    "def generate_full_text_query(input: str) -> str:\n",
    "    \"\"\"\n",
    "    Generate a full-text search query for a given input string.\n",
    "\n",
    "    This function constructs a query string suitable for a full-text search.\n",
    "    It processes the input string by splitting it into words and appending a\n",
    "    similarity threshold (~2 changed characters) to each word, then combines\n",
    "    them using the AND operator. Useful for mapping entities from user questions\n",
    "    to database values, and allows for some misspelings.\n",
    "    \"\"\"\n",
    "    full_text_query = \"\"\n",
    "    words = [el for el in remove_lucene_chars(input).split() if el]\n",
    "    for word in words[:-1]:\n",
    "        full_text_query += f\" {word}~2 AND\"\n",
    "    full_text_query += f\" {words[-1]}~2\"\n",
    "    return full_text_query.strip()\n",
    "\n",
    "# Fulltext index query\n",
    "def structured_retriever(question: str) -> str:\n",
    "    \"\"\"\n",
    "    Collects the neighborhood of entities mentioned\n",
    "    in the question\n",
    "    \"\"\"\n",
    "    result = \"\"\n",
    "    entities = entity_chain.invoke({\"question\": question})\n",
    "    for entity in entities.names:\n",
    "        response = graph.query(\n",
    "            \"\"\"CALL db.index.fulltext.queryNodes('entity', $query, {limit:2})\n",
    "            YIELD node,score\n",
    "            CALL {\n",
    "                WITH node\n",
    "                MATCH (i:Ingredient)<-[:CONTAINS]-(r:Recipe)\n",
    "                WHERE i.name IN $ingredient_list\n",
    "                RETURN r.title + ' - ' + r.instructions AS output\n",
    "            }\n",
    "            RETURN output LIMIT 50\n",
    "            \"\"\",\n",
    "            {\"query\": generate_full_text_query(entity)},\n",
    "        )\n",
    "        result += \"\\n\".join([el['output'] for el in response])\n",
    "    return result"
   ]
  },
  {
   "cell_type": "code",
   "execution_count": 49,
   "metadata": {},
   "outputs": [],
   "source": [
    "def retriever(question: str):\n",
    "    print(f\"Search query: {question}\")\n",
    "    structured_data = structured_retriever(question)\n",
    "    unstructured_data = [el.page_content for el in vector_index.similarity_search(question)]\n",
    "    final_data = f\"\"\"Structured data:\n",
    "{structured_data}\n",
    "Unstructured data:\n",
    "{\"#Document \". join(unstructured_data)}\n",
    "    \"\"\"\n",
    "    return final_data"
   ]
  },
  {
   "cell_type": "code",
   "execution_count": 50,
   "metadata": {},
   "outputs": [],
   "source": [
    "# Condense a chat history and follow-up question into a standalone question\n",
    "_template = \"\"\"Given the following conversation and a follow up question, rephrase the follow up question to be a standalone question,\n",
    "in its original language.\n",
    "Chat History:\n",
    "{chat_history}\n",
    "Follow Up Input: {question}\n",
    "Standalone question:\"\"\"  # noqa: E501\n",
    "CONDENSE_QUESTION_PROMPT = PromptTemplate.from_template(_template)\n",
    "\n",
    "def _format_chat_history(chat_history: List[Tuple[str, str]]) -> List:\n",
    "    buffer = []\n",
    "    for human, ai in chat_history:\n",
    "        buffer.append(HumanMessage(content=human))\n",
    "        buffer.append(AIMessage(content=ai))\n",
    "    return buffer\n",
    "\n",
    "_search_query = RunnableBranch(\n",
    "    # If input includes chat_history, we condense it with the follow-up question\n",
    "    (\n",
    "        RunnableLambda(lambda x: bool(x.get(\"chat_history\"))).with_config(\n",
    "            run_name=\"HasChatHistoryCheck\"\n",
    "        ),  # Condense follow-up question and chat into a standalone_question\n",
    "        RunnablePassthrough.assign(\n",
    "            chat_history=lambda x: _format_chat_history(x[\"chat_history\"])\n",
    "        )\n",
    "        | CONDENSE_QUESTION_PROMPT\n",
    "        | ChatOpenAI(temperature=0)\n",
    "        | StrOutputParser(),\n",
    "    ),\n",
    "    # Else, we have no chat history, so just pass through the question\n",
    "    RunnableLambda(lambda x : x[\"question\"]),\n",
    ")"
   ]
  },
  {
   "cell_type": "code",
   "execution_count": 51,
   "metadata": {},
   "outputs": [],
   "source": [
    "template = \"\"\"請回答下方問題\n",
    "{context}\n",
    "\n",
    "問題: {question}\n",
    "請使用中文回答\n",
    "答案:\"\"\"\n",
    "prompt = ChatPromptTemplate.from_template(template)\n",
    "\n",
    "chain = (\n",
    "    RunnableParallel(\n",
    "        {\n",
    "            \"context\": _search_query | retriever,\n",
    "            \"question\": RunnablePassthrough(),\n",
    "        }\n",
    "    )\n",
    "    | prompt\n",
    "    | llm\n",
    "    | StrOutputParser()\n",
    ")"
   ]
  },
  {
   "cell_type": "code",
   "execution_count": 52,
   "metadata": {},
   "outputs": [
    {
     "name": "stdout",
     "output_type": "stream",
     "text": [
      "Search query: how to cook Potatoes?\n"
     ]
    },
    {
     "name": "stderr",
     "output_type": "stream",
     "text": [
      "Received notification from DBMS server: {severity: WARNING} {code: Neo.ClientNotification.Statement.UnknownRelationshipTypeWarning} {category: UNRECOGNIZED} {title: The provided relationship type is not in the database.} {description: One of the relationship types in your query is not available in the database, make sure you didn't misspell it or that the label is available when you run this statement in your application (the missing relationship type is: MENTIONS)} {position: line: 5, column: 32, offset: 166} for query: \"CALL db.index.fulltext.queryNodes('entity', $query, {limit:2})\\n            YIELD node,score\\n            CALL {\\n              WITH node\\n              MATCH (node)-[r:!MENTIONS]->(neighbor)\\n              RETURN node.id + ' - ' + type(r) + ' -> ' + neighbor.id AS output\\n              UNION ALL\\n              WITH node\\n              MATCH (node)<-[r:!MENTIONS]-(neighbor)\\n              RETURN neighbor.id + ' - ' + type(r) + ' -> ' +  node.id AS output\\n            }\\n            RETURN output LIMIT 50\\n            \"\n",
      "Received notification from DBMS server: {severity: WARNING} {code: Neo.ClientNotification.Statement.UnknownRelationshipTypeWarning} {category: UNRECOGNIZED} {title: The provided relationship type is not in the database.} {description: One of the relationship types in your query is not available in the database, make sure you didn't misspell it or that the label is available when you run this statement in your application (the missing relationship type is: MENTIONS)} {position: line: 9, column: 33, offset: 348} for query: \"CALL db.index.fulltext.queryNodes('entity', $query, {limit:2})\\n            YIELD node,score\\n            CALL {\\n              WITH node\\n              MATCH (node)-[r:!MENTIONS]->(neighbor)\\n              RETURN node.id + ' - ' + type(r) + ' -> ' + neighbor.id AS output\\n              UNION ALL\\n              WITH node\\n              MATCH (node)<-[r:!MENTIONS]-(neighbor)\\n              RETURN neighbor.id + ' - ' + type(r) + ' -> ' +  node.id AS output\\n            }\\n            RETURN output LIMIT 50\\n            \"\n"
     ]
    },
    {
     "data": {
      "text/plain": [
       "'要煮土豆，可以按照以下步驟進行：\\n\\n1. **選擇土豆**：選擇新鮮、無損壞的土豆。\\n\\n2. **清洗土豆**：用清水徹底清洗土豆，去除表面的泥土和雜質。\\n\\n3. **去皮（可選）**：根據個人口味決定是否去皮。如果不去皮，請確保清洗乾淨。\\n\\n4. **切塊**：將土豆切成均勻的小塊，這樣可以確保煮的時候受熱均勻。\\n\\n5. **煮土豆**：\\n   - 將切好的土豆放入鍋中，加入足夠的水，水量應該能完全覆蓋土豆。\\n   - 加入一小撮鹽，這樣可以增加土豆的風味。\\n   - 開大火煮沸，然後轉中小火繼續煮約10-15分鐘，直到土豆變軟。可以用叉子或筷子插入土豆，如果能輕鬆插入，說明土豆已經煮熟。\\n\\n6. **瀝乾水分**：將煮熟的土豆用濾網瀝乾水分。\\n\\n7. **進一步處理（可選）**：煮熟的土豆可以直接食用，也可以進行進一步的烹飪，比如炒、烤、做成土豆泥等。\\n\\n希望這些步驟能幫助你煮出美味的土豆！'"
      ]
     },
     "execution_count": 52,
     "metadata": {},
     "output_type": "execute_result"
    }
   ],
   "source": [
    "chain.invoke({\"question\": \"how to cook Potatoes?\"})"
   ]
  },
  {
   "cell_type": "code",
   "execution_count": null,
   "metadata": {},
   "outputs": [],
   "source": []
  }
 ],
 "metadata": {
  "kernelspec": {
   "display_name": "chefpal",
   "language": "python",
   "name": "python3"
  },
  "language_info": {
   "codemirror_mode": {
    "name": "ipython",
    "version": 3
   },
   "file_extension": ".py",
   "mimetype": "text/x-python",
   "name": "python",
   "nbconvert_exporter": "python",
   "pygments_lexer": "ipython3",
   "version": "3.9.19"
  }
 },
 "nbformat": 4,
 "nbformat_minor": 2
}
