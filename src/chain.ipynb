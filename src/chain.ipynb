{
 "cells": [
  {
   "cell_type": "code",
   "execution_count": 1,
   "metadata": {},
   "outputs": [],
   "source": [
    "from langchain_tools import get_tools\n",
    "from langchain_openai import ChatOpenAI\n",
    "from langchain_core.prompts import ChatPromptTemplate, MessagesPlaceholder\n",
    "from langchain_core.messages import AIMessage, HumanMessage\n",
    "from langchain.agents.format_scratchpad.openai_tools import (\n",
    "    format_to_openai_tool_messages,\n",
    ")\n",
    "from langchain.agents.output_parsers.openai_tools import OpenAIToolsAgentOutputParser\n",
    "from langchain.agents import AgentExecutor\n",
    "\n",
    "MEMORY_KEY = \"chat_history\"\n",
    "\n",
    "llm = ChatOpenAI(model=\"gpt-3.5-turbo\")\n",
    "tools = get_tools()\n",
    "\n",
    "prompt = ChatPromptTemplate.from_messages(\n",
    "    [\n",
    "        (\n",
    "            \"system\",\n",
    "            \"\"\"\n",
    "            As a professional nutritionist, please first answer the question using your existing knowledge. \n",
    "            Keep your answer precise, brief, and professional in tone.\n",
    "            \"\"\",\n",
    "        ),\n",
    "        MessagesPlaceholder(variable_name=MEMORY_KEY),\n",
    "        (\n",
    "            \"user\", \n",
    "            \"\"\"\n",
    "            Answer the following question or finish the task: {input}. \n",
    "            If you need to use a function to assist with your response, please search in 'English' and \n",
    "            inform me about your sources of information and the logic behind your recommendations.\n",
    "            \"\"\"\n",
    "        ),\n",
    "        MessagesPlaceholder(variable_name=\"agent_scratchpad\"),\n",
    "    ]\n",
    ")\n",
    "\n",
    "llm_with_tools = llm.bind_tools(tools)\n",
    "\n",
    "agent = (\n",
    "    {\n",
    "        \"input\": lambda x: x[\"input\"],\n",
    "        \"agent_scratchpad\": lambda x: format_to_openai_tool_messages(\n",
    "            x[\"intermediate_steps\"]\n",
    "        ),\n",
    "        \"chat_history\": lambda x: x[\"chat_history\"],\n",
    "    }\n",
    "    | prompt\n",
    "    | llm_with_tools\n",
    "    | OpenAIToolsAgentOutputParser()\n",
    ")\n",
    "\n",
    "agent_executor = AgentExecutor(agent=agent, tools=tools, verbose=True)\n",
    "\n",
    "def execute_chat(input_message, chat_history):\n",
    "    result = agent_executor.invoke({\"input\": input_message, \"chat_history\": chat_history})\n",
    "    chat_history.extend(\n",
    "        [\n",
    "            HumanMessage(content=input_message),\n",
    "            AIMessage(content=result[\"output\"]),\n",
    "        ]\n",
    "    )\n",
    "    return result"
   ]
  },
  {
   "cell_type": "code",
   "execution_count": 2,
   "metadata": {},
   "outputs": [
    {
     "name": "stdout",
     "output_type": "stream",
     "text": [
      "\n",
      "\n",
      "\u001b[1m> Entering new AgentExecutor chain...\u001b[0m\n",
      "\u001b[32;1m\u001b[1;3m\n",
      "Invoking: `find_restaurant_food` with `{'query': 'beef'}`\n",
      "\n",
      "\n",
      "\u001b[0m\u001b[38;5;200m\u001b[1;3m[{'food_name': 'Beef Stick, Grass Fed', 'brand_name_item_name': 'Chomps Beef Stick, Grass Fed', 'brand_name': 'Chomps'}, {'food_name': 'Mini Beef Stick, Original', 'brand_name_item_name': 'Country Archer Mini Beef Stick, Original', 'brand_name': 'Country Archer'}, {'food_name': 'No Seeds Soft Rye Bread', 'brand_name_item_name': 'Beefsteak No Seeds Soft Rye Bread', 'brand_name': 'Beefsteak'}, {'food_name': 'Beef Teriyaki', 'brand_name_item_name': 'Healthy Choice Beef Teriyaki', 'brand_name': 'Healthy Choice'}, {'food_name': 'Beef Merlot', 'brand_name_item_name': 'Healthy Choice Beef Merlot', 'brand_name': 'Healthy Choice'}, {'food_name': 'Ground Beef', 'brand_name_item_name': \"Laura's Lean Beef Ground Beef\", 'brand_name': \"Laura's Lean Beef\"}, {'food_name': 'Beef Steak, Original', 'brand_name_item_name': \"Jack Link's Beef Steak, Original\", 'brand_name': \"Jack Link's\"}, {'food_name': 'Beef Stick', 'brand_name_item_name': \"Jack Link's Beef Stick\", 'brand_name': \"Jack Link's\"}, {'food_name': 'Original Beef Sticks', 'brand_name_item_name': 'Chomps Original Beef Sticks', 'brand_name': 'Chomps'}, {'food_name': 'All Beef Hamburgers', 'brand_name_item_name': 'Western Beef All Beef Hamburgers', 'brand_name': 'Western Beef'}, {'food_name': 'Beef Jerky', 'brand_name_item_name': 'Old Trapper Beef Jerky', 'brand_name': 'Old Trapper'}, {'food_name': 'Angus Beef & Beef Patties', 'brand_name_item_name': \"Member's Mark Angus Beef & Beef Patties\", 'brand_name': \"Member's Mark\"}, {'food_name': 'Meat Sticks, Beef & Mild Cheddar', 'brand_name_item_name': \"Jack Link's Meat Sticks, Beef & Mild Cheddar\", 'brand_name': \"Jack Link's\"}, {'food_name': 'Beef & Broccoli, Simply Steamers', 'brand_name_item_name': 'Healthy Choice Beef & Broccoli, Simply Steamers', 'brand_name': 'Healthy Choice'}, {'food_name': 'Ramen Noodle Soup, Beef Flavor', 'brand_name_item_name': 'Maruchan Ramen Noodle Soup, Beef Flavor', 'brand_name': 'Maruchan'}, {'food_name': 'Beef Jerky, Original', 'brand_name_item_name': \"Jack Link's Beef Jerky, Original\", 'brand_name': \"Jack Link's\"}, {'food_name': 'Beefless Ground', 'brand_name_item_name': 'Gardein Beefless Ground', 'brand_name': 'Gardein'}, {'food_name': 'Original Beef Jerky', 'brand_name_item_name': 'Pacific Gold Original Beef Jerky', 'brand_name': 'Pacific Gold'}, {'food_name': 'Mini Beef Sticks', 'brand_name_item_name': 'Country Archer Mini Beef Sticks', 'brand_name': 'Country Archer'}, {'food_name': 'Beef Steak, Teriyaki, Jumbo', 'brand_name_item_name': 'Jack Links Beef Steak, Teriyaki, Jumbo', 'brand_name': 'Jack Links'}]\u001b[0m\u001b[32;1m\u001b[1;3mI found several beef options available for you to enjoy:\n",
      "1. Chomps Beef Stick, Grass Fed by Chomps\n",
      "2. Country Archer Mini Beef Stick, Original by Country Archer\n",
      "3. Beefsteak No Seeds Soft Rye Bread by Beefsteak\n",
      "4. Healthy Choice Beef Teriyaki by Healthy Choice\n",
      "5. Laura's Lean Beef Ground Beef by Laura's Lean Beef\n",
      "\n",
      "You can explore these options to satisfy your craving for beef.\u001b[0m\n",
      "\n",
      "\u001b[1m> Finished chain.\u001b[0m\n"
     ]
    }
   ],
   "source": [
    "result = agent_executor.invoke({\"input\": \"我想吃牛肉\", \"chat_history\": []})"
   ]
  },
  {
   "cell_type": "code",
   "execution_count": 4,
   "metadata": {},
   "outputs": [
    {
     "data": {
      "text/plain": [
       "{'input': '我想吃牛肉',\n",
       " 'chat_history': [],\n",
       " 'output': \"I found several beef options available for you to enjoy:\\n1. Chomps Beef Stick, Grass Fed by Chomps\\n2. Country Archer Mini Beef Stick, Original by Country Archer\\n3. Beefsteak No Seeds Soft Rye Bread by Beefsteak\\n4. Healthy Choice Beef Teriyaki by Healthy Choice\\n5. Laura's Lean Beef Ground Beef by Laura's Lean Beef\\n\\nYou can explore these options to satisfy your craving for beef.\"}"
      ]
     },
     "execution_count": 4,
     "metadata": {},
     "output_type": "execute_result"
    }
   ],
   "source": [
    "result"
   ]
  },
  {
   "cell_type": "code",
   "execution_count": 191,
   "metadata": {},
   "outputs": [
    {
     "name": "stdout",
     "output_type": "stream",
     "text": [
      "\n",
      "\n",
      "\u001b[1m> Entering new AgentExecutor chain...\u001b[0m\n",
      "\u001b[32;1m\u001b[1;3m\n",
      "Invoking: `find_restaurant_food` with `{'query': 'beef'}`\n",
      "\n",
      "\n",
      "\u001b[0m\u001b[38;5;200m\u001b[1;3m[{'food_name': 'Beef Stick, Grass Fed', 'brand_name_item_name': 'Chomps Beef Stick, Grass Fed', 'brand_name': 'Chomps'}, {'food_name': 'Mini Beef Stick, Original', 'brand_name_item_name': 'Country Archer Mini Beef Stick, Original', 'brand_name': 'Country Archer'}, {'food_name': 'No Seeds Soft Rye Bread', 'brand_name_item_name': 'Beefsteak No Seeds Soft Rye Bread', 'brand_name': 'Beefsteak'}, {'food_name': 'Beef Teriyaki', 'brand_name_item_name': 'Healthy Choice Beef Teriyaki', 'brand_name': 'Healthy Choice'}, {'food_name': 'Beef Merlot', 'brand_name_item_name': 'Healthy Choice Beef Merlot', 'brand_name': 'Healthy Choice'}, {'food_name': 'Ground Beef', 'brand_name_item_name': \"Laura's Lean Beef Ground Beef\", 'brand_name': \"Laura's Lean Beef\"}, {'food_name': 'Beef Steak, Original', 'brand_name_item_name': \"Jack Link's Beef Steak, Original\", 'brand_name': \"Jack Link's\"}, {'food_name': 'Beef Stick', 'brand_name_item_name': \"Jack Link's Beef Stick\", 'brand_name': \"Jack Link's\"}, {'food_name': 'Original Beef Sticks', 'brand_name_item_name': 'Chomps Original Beef Sticks', 'brand_name': 'Chomps'}, {'food_name': 'All Beef Hamburgers', 'brand_name_item_name': 'Western Beef All Beef Hamburgers', 'brand_name': 'Western Beef'}, {'food_name': 'Beef Jerky', 'brand_name_item_name': 'Old Trapper Beef Jerky', 'brand_name': 'Old Trapper'}, {'food_name': 'Angus Beef & Beef Patties', 'brand_name_item_name': \"Member's Mark Angus Beef & Beef Patties\", 'brand_name': \"Member's Mark\"}, {'food_name': 'Meat Sticks, Beef & Mild Cheddar', 'brand_name_item_name': \"Jack Link's Meat Sticks, Beef & Mild Cheddar\", 'brand_name': \"Jack Link's\"}, {'food_name': 'Beef & Broccoli, Simply Steamers', 'brand_name_item_name': 'Healthy Choice Beef & Broccoli, Simply Steamers', 'brand_name': 'Healthy Choice'}, {'food_name': 'Ramen Noodle Soup, Beef Flavor', 'brand_name_item_name': 'Maruchan Ramen Noodle Soup, Beef Flavor', 'brand_name': 'Maruchan'}, {'food_name': 'Beef Jerky, Original', 'brand_name_item_name': \"Jack Link's Beef Jerky, Original\", 'brand_name': \"Jack Link's\"}, {'food_name': 'Beefless Ground', 'brand_name_item_name': 'Gardein Beefless Ground', 'brand_name': 'Gardein'}, {'food_name': 'Original Beef Jerky', 'brand_name_item_name': 'Pacific Gold Original Beef Jerky', 'brand_name': 'Pacific Gold'}, {'food_name': 'Mini Beef Sticks', 'brand_name_item_name': 'Country Archer Mini Beef Sticks', 'brand_name': 'Country Archer'}, {'food_name': 'Beef Steak, Teriyaki, Jumbo', 'brand_name_item_name': 'Jack Links Beef Steak, Teriyaki, Jumbo', 'brand_name': 'Jack Links'}]\u001b[0m\u001b[32;1m\u001b[1;3mI found a variety of beef products from different brands that you can consider for your meal:\n",
      "\n",
      "1. **Chomps Beef Stick, Grass Fed** by Chomps\n",
      "2. **Country Archer Mini Beef Stick, Original** by Country Archer\n",
      "3. **Beefsteak No Seeds Soft Rye Bread** by Beefsteak\n",
      "4. **Healthy Choice Beef Teriyaki** by Healthy Choice\n",
      "5. **Laura's Lean Beef Ground Beef** by Laura's Lean Beef\n",
      "6. **Jack Link's Beef Steak, Original** by Jack Link's\n",
      "7. **Western Beef All Beef Hamburgers** by Western Beef\n",
      "8. **Old Trapper Beef Jerky** by Old Trapper\n",
      "9. **Member's Mark Angus Beef & Beef Patties** by Member's Mark\n",
      "10. **Gardein Beefless Ground** by Gardein\n",
      "\n",
      "These options include beef sticks, jerky, ground beef, and other beef products that you can choose from for your beef craving.\u001b[0m\n",
      "\n",
      "\u001b[1m> Finished chain.\u001b[0m\n"
     ]
    }
   ],
   "source": [
    "chat_history = []\n",
    "\n",
    "# 第一次对话\n",
    "result1 = execute_chat(\"我想吃牛肉\", chat_history)"
   ]
  },
  {
   "cell_type": "code",
   "execution_count": 192,
   "metadata": {},
   "outputs": [
    {
     "name": "stdout",
     "output_type": "stream",
     "text": [
      "\n",
      "\n",
      "\u001b[1m> Entering new AgentExecutor chain...\u001b[0m\n",
      "\u001b[32;1m\u001b[1;3m\n",
      "Invoking: `get_nutrition_with_nlp` with `{'query': 'beef'}`\n",
      "\n",
      "\n",
      "\u001b[0m\u001b[33;1m\u001b[1;3m[{'food_name': 'beef', 'brand_name': None, 'serving_qty': 3, 'serving_unit': 'oz', 'serving_weight_grams': 85, 'nf_calories': 220.15, 'nf_total_fat': 14.1, 'nf_saturated_fat': 5.76, 'nf_cholesterol': 73.95, 'nf_sodium': 42.5, 'nf_total_carbohydrate': 0, 'nf_dietary_fiber': 0, 'nf_sugars': 0, 'nf_protein': 22.19, 'nf_potassium': 230.35, 'nf_p': 153, 'metadata': {'is_raw_food': False}, 'tags': {'item': 'beef', 'measure': None, 'quantity': '3.0', 'food_group': 2, 'tag_id': 192}, 'alt_measures': [{'serving_weight': 85, 'measure': 'oz', 'seq': 1, 'qty': 3}, {'serving_weight': 285, 'measure': 'piece, cooked, excluding refuse (yield from 1 lb raw meat with refuse)', 'seq': 2, 'qty': 1}, {'serving_weight': 100, 'measure': 'g', 'seq': None, 'qty': 100}]}]\u001b[0m\u001b[32;1m\u001b[1;3mA 3 oz (85g) serving of beef provides approximately the following nutritional values:\n",
      "\n",
      "- **Calories:** 220.15\n",
      "- **Total Fat:** 14.1g\n",
      "  - Saturated Fat: 5.76g\n",
      "- **Cholesterol:** 73.95mg\n",
      "- **Sodium:** 42.5mg\n",
      "- **Total Carbohydrate:** 0g\n",
      "  - Dietary Fiber: 0g\n",
      "  - Sugars: 0g\n",
      "- **Protein:** 22.19g\n",
      "- **Potassium:** 230.35mg\n",
      "- **Phosphorus:** 153mg\n",
      "\n",
      "Beef is a good source of protein, essential nutrients, and minerals like iron and zinc. It is important to consider the cooking method and portion size to maintain a balanced diet.\u001b[0m\n",
      "\n",
      "\u001b[1m> Finished chain.\u001b[0m\n"
     ]
    }
   ],
   "source": [
    "# 第二次对话\n",
    "result2 = execute_chat(\"營養價值\", chat_history)"
   ]
  }
 ],
 "metadata": {
  "kernelspec": {
   "display_name": "nutrition_assistant",
   "language": "python",
   "name": "python3"
  },
  "language_info": {
   "codemirror_mode": {
    "name": "ipython",
    "version": 3
   },
   "file_extension": ".py",
   "mimetype": "text/x-python",
   "name": "python",
   "nbconvert_exporter": "python",
   "pygments_lexer": "ipython3",
   "version": "3.10.13"
  }
 },
 "nbformat": 4,
 "nbformat_minor": 2
}
