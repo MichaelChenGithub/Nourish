{
 "cells": [
  {
   "cell_type": "code",
   "execution_count": 1,
   "metadata": {},
   "outputs": [
    {
     "name": "stdout",
     "output_type": "stream",
     "text": [
      "YOUR_APP_ID_HERE\n",
      "YOUR_APP_KEY_HERE\n"
     ]
    }
   ],
   "source": [
    "import os\n",
    "import requests\n",
    "os.environ['x-app-id'] = 'YOUR_APP_ID_HERE'\n",
    "os.environ['x-app-key'] = 'YOUR_APP_KEY_HERE'\n",
    "\n",
    "# 現在你可以使用這些環境變數\n",
    "print(os.environ['x-app-id'])\n",
    "print(os.environ['x-app-key'])"
   ]
  },
  {
   "cell_type": "code",
   "execution_count": 2,
   "metadata": {},
   "outputs": [],
   "source": [
    "headers = {\n",
    "    \"Content-Type\": \"application/json\",\n",
    "    \"x-app-id\": os.getenv(\"NUTRITIONNIX_APP_ID\"),\n",
    "    \"x-app-key\": os.getenv(\"NUTRITIONNIX_APP_KEY\")\n",
    "}\n",
    "\n",
    "def get_nutrition_with_nlp(headers, query):\n",
    "    \"\"\"\n",
    "    Retrieves nutritional information for foods using natural language processing from the Nutritionix API.\n",
    "\n",
    "    Parameters:\n",
    "        headers (dict): Headers containing authentication information required by the API.\n",
    "        query (str): The user's natural language query describing the food for which they want to obtain nutritional information.\n",
    "\n",
    "    Returns:\n",
    "        list: A list of dictionaries containing filtered nutritional information. Each dictionary represents the nutritional information for one food item.\n",
    "\n",
    "    Exceptions:\n",
    "        Returns an error message string if the request fails or if an exception occurs during the API call.\n",
    "    \"\"\"\n",
    "    url = \"https://trackapi.nutritionix.com/v2/natural/nutrients\"\n",
    "\n",
    "    payload = {\n",
    "        \"query\": query\n",
    "    }\n",
    "    try:\n",
    "        response = requests.post(url, json=payload, headers=headers)\n",
    "        response.raise_for_status()  # if error happened, raise the error status\n",
    "        saved_response = []\n",
    "        # only keep important nutrition info to minimize the token\n",
    "        for food in response.json()[\"foods\"]:\n",
    "            keys_to_remove = set(['full_nutrients', 'nix_brand_name', 'nix_brand_id', 'nix_item_name', 'nix_item_id', 'upc', 'consumed_at', 'source', 'ndb_no', 'lat', 'lng', 'meal_type', 'photo', 'sub_recipe', 'class_code', 'brick_code', 'tag_id'])\n",
    "            saved_food_info = {key: value for key, value in food.items() if key not in keys_to_remove}\n",
    "            saved_response.append(saved_food_info)\n",
    "        return saved_response\n",
    "    except requests.exceptions.RequestException as e:\n",
    "        return f\"Error: {e}\"\n",
    "    \n",
    "def find_restaurant_food(headers, query):\n",
    "    \"\"\"\n",
    "    Searches for branded foods in the Nutritionix API based on the search query.\n",
    "\n",
    "    Parameters:\n",
    "        headers (dict): Headers containing the authentication details required by the API.\n",
    "        query (str): The search query used to find foods, which can include food names, brands, etc.\n",
    "\n",
    "    Returns:\n",
    "        list: A list of dictionaries containing the search results. Each dictionary includes key information such as the food name and brand name.\n",
    "\n",
    "    Exceptions:\n",
    "        Returns a dictionary with an error message if the request fails or if an exception occurs during the API call.\n",
    "    \"\"\"\n",
    "    url = f\"https://trackapi.nutritionix.com/v2/search/instant/?query={query}\"\n",
    "\n",
    "    try:\n",
    "        response = requests.get(url, headers=headers)\n",
    "        response.raise_for_status()  # if error happened, raise the error status\n",
    "        branded_food = response.json()[\"branded\"]\n",
    "        saved_response = []\n",
    "        # only keep important nutrition info to minimize the token\n",
    "        for food in branded_food:\n",
    "            keys_to_save = set(['food_name', 'brand_name_item_name', 'brand_name'])\n",
    "            saved_food_info = {key: value for key, value in food.items() if key in keys_to_save}\n",
    "            saved_response.append(saved_food_info)\n",
    "        return saved_response\n",
    "    except requests.exceptions.RequestException as e:\n",
    "        return f\"Error: {e}\""
   ]
  },
  {
   "cell_type": "code",
   "execution_count": 3,
   "metadata": {},
   "outputs": [
    {
     "data": {
      "text/plain": [
       "[{'food_name': 'salmon',\n",
       "  'brand_name': None,\n",
       "  'serving_qty': 1,\n",
       "  'serving_unit': 'fillet',\n",
       "  'serving_weight_grams': 227,\n",
       "  'nf_calories': 467.62,\n",
       "  'nf_total_fat': 28.03,\n",
       "  'nf_saturated_fat': 5.44,\n",
       "  'nf_cholesterol': 143.01,\n",
       "  'nf_sodium': 138.47,\n",
       "  'nf_total_carbohydrate': 0,\n",
       "  'nf_dietary_fiber': 0,\n",
       "  'nf_sugars': 0,\n",
       "  'nf_protein': 50.17,\n",
       "  'nf_potassium': 871.68,\n",
       "  'nf_p': 572.04,\n",
       "  'metadata': {'is_raw_food': False},\n",
       "  'tags': {'item': 'salmon',\n",
       "   'measure': None,\n",
       "   'quantity': '1.0',\n",
       "   'food_group': 2,\n",
       "   'tag_id': 375},\n",
       "  'alt_measures': [{'serving_weight': 85, 'measure': 'oz', 'seq': 1, 'qty': 3},\n",
       "   {'serving_weight': 178, 'measure': 'fillet', 'seq': 2, 'qty': 0.5},\n",
       "   {'serving_weight': 113.4, 'measure': 'oz', 'seq': 80, 'qty': 4},\n",
       "   {'serving_weight': 227, 'measure': 'fillet', 'seq': 81, 'qty': 1},\n",
       "   {'serving_weight': 100, 'measure': 'g', 'seq': None, 'qty': 100}]}]"
      ]
     },
     "execution_count": 3,
     "metadata": {},
     "output_type": "execute_result"
    }
   ],
   "source": [
    "get_nutrition_with_nlp(headers, \"salmon\")"
   ]
  },
  {
   "cell_type": "code",
   "execution_count": null,
   "metadata": {},
   "outputs": [],
   "source": [
    "def search_meal_by_name(query):\n",
    "    \"\"\"\n",
    "    Searches for meal information by name using TheMealDB API.\n",
    "\n",
    "    Parameters:\n",
    "        query (str): The name of the meal to search for. This can be a full name or a partial name, as the API supports searching with partial matches.\n",
    "\n",
    "    Returns:\n",
    "        dict: A dictionary containing the API's response. This includes an array of meals that match the search query, with each meal containing details such as its name, category, area, instructions, and ingredients.\n",
    "\n",
    "    Exceptions:\n",
    "        Returns an error message string if the request encounters an error or if an exception occurs during the API call. This could be due to various reasons such as network issues, invalid API keys, or errors from TheMealDB API.\n",
    "\n",
    "    Notes:\n",
    "        The function uses a GET request to retrieve data from TheMealDB API based on the search query provided. The 'API-key' in the headers is a placeholder and should be replaced with a valid API key if required by TheMealDB API.\n",
    "    \"\"\"\n",
    "    headers = {\n",
    "        \"Content-Type\": \"application/json\",\n",
    "        \"API-key\" : \"1\"\n",
    "    }\n",
    "\n",
    "    url = f\"https://www.themealdb.com/api/json/v1/1/search.php?s={query}\"\n",
    "\n",
    "    try:\n",
    "        response = requests.get(url, headers=headers)\n",
    "        response.raise_for_status()  # if error happened, raise the error status\n",
    "        return response.json()\n",
    "    except requests.exceptions.RequestException as e:\n",
    "        return f\"Error: {e}\""
   ]
  },
  {
   "cell_type": "code",
   "execution_count": 1,
   "metadata": {},
   "outputs": [],
   "source": [
    "from langchain.tools import Tool\n",
    "from langchain_community.utilities import GoogleSearchAPIWrapper\n",
    "from langchain.pydantic_v1 import BaseModel, Field\n",
    "from langchain.tools import StructuredTool\n",
    "\n",
    "class GoogleSearch(BaseModel):\n",
    "    query: str = Field(description=\"search query\")\n",
    "\n",
    "search = GoogleSearchAPIWrapper()\n",
    "def top_results(query):\n",
    "    return search.results(query, 3)\n",
    "\n",
    "google_search_tool = StructuredTool.from_function(\n",
    "        func=top_results,\n",
    "        name=\"google_search\",\n",
    "        description=\"Search Google for related results\",\n",
    "        args_schema=GoogleSearch\n",
    "    )"
   ]
  },
  {
   "cell_type": "code",
   "execution_count": 2,
   "metadata": {},
   "outputs": [
    {
     "data": {
      "text/plain": [
       "StructuredTool(name='google_search', description='google_search(query) - Search Google for related results', args_schema=<class '__main__.GoogleSearch'>, func=<function top_results at 0x0000023D55B08550>)"
      ]
     },
     "execution_count": 2,
     "metadata": {},
     "output_type": "execute_result"
    }
   ],
   "source": [
    "google_search_tool"
   ]
  },
  {
   "cell_type": "code",
   "execution_count": 7,
   "metadata": {},
   "outputs": [],
   "source": [
    "search = GoogleSearchAPIWrapper()\n",
    "\n",
    "def top5_results(query):\n",
    "    return search.results(query, 3)\n",
    "\n",
    "\n",
    "tool = Tool(\n",
    "    name=\"Google Search Snippets\",\n",
    "    description=\"Search Google for recent results.\",\n",
    "    func=top5_results,\n",
    ")"
   ]
  },
  {
   "cell_type": "code",
   "execution_count": 8,
   "metadata": {},
   "outputs": [
    {
     "data": {
      "text/plain": [
       "[{'title': \"The do's and don'ts of cheat meals, according to nutrition experts\",\n",
       "  'link': 'https://www.nbcnews.com/better/health/do-s-don-ts-cheat-meals-according-nutrition-experts-ncna786516',\n",
       "  'snippet': 'Jan 5, 2018 ... The nutrition pros say a cheat meal every now and then is just fine, if you keep it in check.'}]"
      ]
     },
     "execution_count": 8,
     "metadata": {},
     "output_type": "execute_result"
    }
   ],
   "source": [
    "tool.func(\"Cheat meal\")"
   ]
  },
  {
   "cell_type": "code",
   "execution_count": null,
   "metadata": {},
   "outputs": [],
   "source": []
  }
 ],
 "metadata": {
  "kernelspec": {
   "display_name": "nutrition_assistant",
   "language": "python",
   "name": "python3"
  },
  "language_info": {
   "codemirror_mode": {
    "name": "ipython",
    "version": 3
   },
   "file_extension": ".py",
   "mimetype": "text/x-python",
   "name": "python",
   "nbconvert_exporter": "python",
   "pygments_lexer": "ipython3",
   "version": "3.10.13"
  }
 },
 "nbformat": 4,
 "nbformat_minor": 2
}
